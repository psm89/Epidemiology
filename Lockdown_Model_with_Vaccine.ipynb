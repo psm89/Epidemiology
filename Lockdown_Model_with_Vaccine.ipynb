{
 "cells": [
  {
   "cell_type": "markdown",
   "metadata": {},
   "source": [
    "# Can the vaccine against COVID-19 avoid further lockdowns?"
   ]
  },
  {
   "cell_type": "markdown",
   "metadata": {},
   "source": [
    "Dated: 21.11.2020\n",
    "\n",
    "In this notebook we present a simplified model to estimate the number of lockdowns needed to control the pandemic in Germany. The model assumes that a vaccine against COVID-19 will be available soon. \n",
    "\n",
    "These are the most important assumptions of the model: \n",
    "\n",
    "* The SIR-model is used and adapted as follows: We estimate also the number of deaths (D) and successfully vaccinated susceptibles (S) are moved to the recovered people (R).  \n",
    "* We assume that recovered people (either infected or vaccinated previously) will remain immune. \n",
    "* The vaccine shows effects 28 days after the first vaccination has been given.\n",
    "* The vaccine can avoid 90% of infections. \n",
    "* If a person got vaccinated, it cannnot infect other people. \n",
    "* 70% of the German population is willing to get vaccinated. \n",
    "* The high risk group will receive the vaccination before everyone else.\n",
    "* Whenever the incidence for the high risk group becomes too large there will be a lockdown to lower the daily incidence. \n",
    "* Once the daily incidence has dropped below 1000 new infections per day the lockdown terminates. \n",
    "* We assume that the lockdows are efficient enough to have an effective reproduction number $\\mathcal{R}=0.7$.\n",
    "* Outside the lockdown the effective reproduction number $\\mathcal{R}$ will be a parameter of the model to be chosen. \n",
    "* The transition between $\\mathcal{R}$ during lockdown and outside of lockdown is not continuous. Hence, we assume instantaneous adaption.\n",
    "* The infection fatality rate is assumed to be 2% for the high risk group and 0,5% for the whole population. \n",
    "\n",
    "Notice: Seasonal effects are not included in the model. Instead we assume that a lockdown in fall or winter must be more restrictive than in summer. This assumption is expected to compensate the current inadequacy of the model."
   ]
  },
  {
   "cell_type": "markdown",
   "metadata": {},
   "source": [
    "### Implementation of the model"
   ]
  },
  {
   "cell_type": "code",
   "execution_count": 1,
   "metadata": {},
   "outputs": [],
   "source": [
    "from matplotlib import pyplot as plt\n",
    "\n",
    "def lockdown_model(basis_reproduction_number, visibility, total_population, incidence, infectious, recovered, deaths, vaccination_rate, high_risk_group, availability, start, end, flag):\n",
    "   \n",
    " # setting initial conditions\n",
    "        \n",
    "    # notation\n",
    "    N = total_population\n",
    "    I= infectious/visibility\n",
    "    R = recovered/visibility\n",
    "    D = deaths\n",
    "    t = start # starting point\n",
    "    T = end # end day of computation \n",
    "\n",
    "    # implications\n",
    "    S = N - I - R\n",
    "    duration = T - t # number of days to simulate\n",
    "    \n",
    "# Fixed valued parameters of the model \n",
    "    \n",
    "    # virus\n",
    "    recovery = 10 # in days, actual recovery or death\n",
    "    gamma = 1/recovery # recovery rate\n",
    "    lethality_rate = 0.005 # probability of dying due to covid 19; the apparent lethality rate worldwide seems to be 3% based o repored figures\n",
    "    critical = 20000\n",
    "    subcritical = 1000\n",
    "    \n",
    "    # vaccination\n",
    "    vacc = vaccination_rate/2 # per day; divided by 2 because we need two injections\n",
    "    V = 0 # initially\n",
    "    #availability = availability # days from now\n",
    "    delay = 28 # delay until protection begins\n",
    "    vaccination_success = 0.9\n",
    "    vaccination_acceptance = 0.7\n",
    "    stock = 56e6 # how many people can be vaccinated?\n",
    "    V_max = min(S*vaccination_acceptance, stock)\n",
    "    \n",
    "    # high risk group \n",
    "    ratio_hr = high_risk_group # proportion of high risk group\n",
    "    critical_eff = critical*ratio_hr # acceptable incidence of high risk people\n",
    "    lethality_rate_hr = 0.02 # lethality rate for high risk group\n",
    "    lethality_rate_rest = max((lethality_rate-ratio_hr*lethality_rate_hr)/(1-ratio_hr),0)\n",
    "    S_hr_fail = S*ratio_hr*((1-vaccination_acceptance) + vaccination_acceptance*(1-vaccination_success))\n",
    "    \n",
    "# definition of lists for the purpose of plotting\n",
    "    \n",
    "    V_list = [V]\n",
    "    S_list = [S]\n",
    "    I_list = [I]\n",
    "    R_list = [R]\n",
    "    New_list = [incidence/visibility]\n",
    "    D_list = [D]\n",
    "    time = [t]\n",
    "    \n",
    "# solving the SIR model numerically\n",
    "  \n",
    "    mode = flag # flag for lockdown vs. normal\n",
    "    count_lockdowns = 0\n",
    "    count_days_in_lockdown = 0\n",
    "    list_lockdowns = []\n",
    "    days_in_lockdown = []\n",
    "    \n",
    "    for i in range (1, duration):\n",
    "        \n",
    "        if mode == 'lockdown':\n",
    "            R0 = 0.7 # effective reproduction number during lockdown\n",
    "            if count_lockdowns == 0:\n",
    "                count_lockdowns = 1 \n",
    "        else:\n",
    "            R0 = basis_reproduction_number # (initial) basis reproduction number\n",
    "        \n",
    "        New = gamma*R0*S*I/N # new cases\n",
    "        New_hr = New*ratio_hr # new cases in the high risk group\n",
    "        \n",
    "        # criterion for lockdown\n",
    "        if (New_hr > critical_eff) and (mode != 'lockdown'):\n",
    "            mode = 'lockdown'\n",
    "            count_lockdowns += 1\n",
    "        \n",
    "        # counting the total days of lockdown\n",
    "        if mode == 'lockdown':\n",
    "            count_days_in_lockdown += 1 \n",
    "        \n",
    "        # criterion for switching from lockdown to normal mode\n",
    "        if (New < subcritical) and (mode == 'lockdown'):\n",
    "            R0 = basis_reproduction_number\n",
    "            mode = 'normal'\n",
    "            list_lockdowns.append(count_days_in_lockdown)\n",
    "        \n",
    "        # counting number of people receiving vaccination for each day \n",
    "        # the criterions accounts for temporal delay in the protection\n",
    "        if (V < V_max) and (i > delay + availability): \n",
    "            dV = min(vacc,S)\n",
    "        else:\n",
    "            dV = 0\n",
    "        \n",
    "        dS = - gamma*R0*I*S/N - vaccination_success*dV # change in the susceptibles\n",
    "        dI = gamma*(R0*S/N-1)*I # change in the number of infectious people \n",
    "        dR = gamma*I # change in the number of recovered people accounting for deaths\n",
    "        dD = gamma*I*(lethality_rate_rest*(1-ratio_hr)+lethality_rate_hr*ratio_hr)  # change in the number of deaths\n",
    "        # updating those variables\n",
    "        V = V + dV\n",
    "        S = max(S + dS, 0)\n",
    "        I = max(I + dI, 0)\n",
    "        R = max(R + dR, 0)\n",
    "        D = max(D + dD, 0)\n",
    "        # inserting the variables to the corresponding lists\n",
    "        V_list.append(V)\n",
    "        S_list.append(S)\n",
    "        I_list.append(I)\n",
    "        R_list.append(R)\n",
    "        D_list.append(D)\n",
    "        New_list.append(New)\n",
    "        time.append(i)\n",
    "                \n",
    "        S_hr = ratio_hr*S # calculating the size of susceptible population among high risk group at the beginning of day i\n",
    "        S_hr = S_hr - dI*ratio_hr # subtracting hr people who got infected before vaccination\n",
    "\n",
    "        # this criterion ensures that the high risk group gets vaccination first\n",
    "        if S_hr > S_hr_fail:\n",
    "            S_hr = S_hr - dV # size of the susceptible high risk group at the end of day i\n",
    "        \n",
    "        ratio_hr = max(S_hr,0)/S # updating the proportion of the high risk group\n",
    "         \n",
    "    # counting the days for each lockdown\n",
    "    for i in range(len(list_lockdowns)):\n",
    "        if i == 0:\n",
    "            days_in_lockdown.append(list_lockdowns[0])\n",
    "        else:\n",
    "            days_in_lockdown.append(list_lockdowns[i]-list_lockdowns[i-1])\n",
    "        \n",
    "    return time, S_list, New_list, I_list, R_list, D_list, V_list, days_in_lockdown"
   ]
  },
  {
   "cell_type": "markdown",
   "metadata": {},
   "source": [
    "The function lockdown_model has the following input parameters: \n",
    "* (Effective) Reproduction number outside the lockdown. \n",
    "* Estimated fraction of unknown cases (in the following we ignore this factor as we are interested in the general dynamics)\n",
    "* Total population \n",
    "* Incidence (per day)\n",
    "* Number of currently actively infected people \n",
    "* Recovered people \n",
    "* Deaths \n",
    "* Vaccination rate (number of people per day) \n",
    "* Proportion of high risk group \n",
    "* Availability of the vaccine (in days from now) \n",
    "* Starting point of the computation (we will choose t=0)\n",
    "* End of the computation (we will choose t=730 i.e. 2 years)\n",
    "* A flag for setting whether we are currently in lockdown i.e. flag = 'lockdown' or else flag='normal'"
   ]
  },
  {
   "cell_type": "markdown",
   "metadata": {},
   "source": [
    "The output of the function is: \n",
    "* A list of time stamps \n",
    "* A list of the number of susceptibles at every day\n",
    "* A list of the number of incidences per day\n",
    "* A list of the number of actively infected at every day\n",
    "* A list of the number of recovered people (cumulated) at every day\n",
    "* A list of the number of deaths (cumulated) at every day\n",
    "* A list of the number of vaccinated people (cumulated) at every day\n",
    "* A list with the durations (in days) of every lockdown"
   ]
  },
  {
   "cell_type": "markdown",
   "metadata": {},
   "source": [
    "### The computation"
   ]
  },
  {
   "cell_type": "markdown",
   "metadata": {},
   "source": [
    "We state some further assumptions: \n",
    "* We use the input data from Saturday, 21.11.2020\n",
    "* The incidence is approximated by the 7-day average of the daily incidence. \n",
    "* In particular we choose the flag='lockdown' even though we have not yet reached $\\mathcal{R}=0.7$ as assumed in the implementation. \n",
    "* We assume that $\\mathcal{R}=1.5$ if there is no lockdown. Hence, we implicitly assume that: \n",
    "    * Without lockdows we accept some exponential growth. \n",
    "    * Since many research papers suggest $\\mathcal{R}_0 \\simeq 3 \\pm 1$ our assumption of $\\mathcal{R}=1.5$ means that even without lockdowns the population is cautions, keeps wearing masks, accepts physical distancing etc.  \n",
    "* We assume that the high risk group is between 20-40% of the whole population. \n",
    "* We assume that the earliest starting point of the vaccination is January and the latest is April. \n",
    "* We assume that the number of vaccinations per day is between 60.000 and 180.000. (Note that [this paper](http://www.matthias.schrappe.com/einzel/thesenpapier_corona2.pdf) assumes 60.000 vaccinations per day at most.) "
   ]
  },
  {
   "cell_type": "code",
   "execution_count": 2,
   "metadata": {},
   "outputs": [],
   "source": [
    "A = lockdown_model(1.5, 1, 80e6, 18000, 310932, 607339, 14239, 180000, 0.2, 41, 0, 365*2, 'lockdown') # more optimistic\n",
    "B = lockdown_model(1.5, 1, 80e6, 18000, 310932, 607339, 14239, 120000, 0.3, 86, 0, 365*2, 'lockdown') # moderate\n",
    "C = lockdown_model(1.5, 1, 80e6, 18000, 310932, 607339, 14239, 60000, 0.4, 131, 0, 365*2, 'lockdown') # more pessimistic"
   ]
  },
  {
   "cell_type": "markdown",
   "metadata": {},
   "source": [
    "#### Incidence curves "
   ]
  },
  {
   "cell_type": "code",
   "execution_count": 3,
   "metadata": {},
   "outputs": [
    {
     "data": {
      "image/png": "[encoded data removed]",
      "text/plain": [
       "<Figure size 432x288 with 1 Axes>"
      ]
     },
     "metadata": {
      "needs_background": "light"
     },
     "output_type": "display_data"
    },
    {
     "data": {
      "image/png": "[encoded data removed]",
      "text/plain": [
       "<Figure size 432x288 with 1 Axes>"
      ]
     },
     "metadata": {
      "needs_background": "light"
     },
     "output_type": "display_data"
    },
    {
     "data": {
      "image/png": "[encoded data removed]",
      "text/plain": [
       "<Figure size 432x288 with 1 Axes>"
      ]
     },
     "metadata": {
      "needs_background": "light"
     },
     "output_type": "display_data"
    }
   ],
   "source": [
    "plt.grid(True)\n",
    "plt.title('Incidence curve (optimistic scenario A)')\n",
    "plt.xlabel('Time [Days]')\n",
    "plt.ylabel('Incidence per day')\n",
    "plt.bar(A[0], A[2])\n",
    "plt.show()\n",
    "\n",
    "plt.grid(True)\n",
    "plt.title('Incidence curve (moderate scenario B)')\n",
    "plt.xlabel('Time [Days]')\n",
    "plt.ylabel('Incidence per day')\n",
    "plt.bar(B[0], B[2])\n",
    "plt.show()\n",
    "\n",
    "plt.grid(True)\n",
    "plt.title('Incidence curve (pessimistic scenario C)')\n",
    "plt.xlabel('Time [Days]')\n",
    "plt.ylabel('Incidence per day')\n",
    "plt.bar(C[0], C[2])\n",
    "plt.show()"
   ]
  },
  {
   "cell_type": "markdown",
   "metadata": {},
   "source": [
    "#### Expected days in lockdown"
   ]
  },
  {
   "cell_type": "code",
   "execution_count": 4,
   "metadata": {},
   "outputs": [
    {
     "name": "stdout",
     "output_type": "stream",
     "text": [
      "Scenario A\n",
      "Number of lockdowns in scenario A: 2\n",
      "Total number of days in lockdown in scenario A: 166\n",
      "Number of days in lockdown in scenario A: [96, 70]\n",
      "--------------------------------------------------------\n",
      "Scenario B\n",
      "Number of lockdowns in scenario B: 3\n",
      "Total number of days in lockdown in scenario B: 233\n",
      "Number of days in lockdown in scenario B: [98, 68, 67]\n",
      "--------------------------------------------------------\n",
      "Scenario C\n",
      "Number of lockdowns in scenario C: 5\n",
      "Total number of days in lockdown in scenario C: 364\n",
      "Number of days in lockdown in scenario C: [98, 72, 68, 64, 62]\n"
     ]
    }
   ],
   "source": [
    "print('Scenario A')\n",
    "print('Number of lockdowns in scenario A:', len(A[7]))\n",
    "print('Total number of days in lockdown in scenario A:', sum(A[7]))\n",
    "print('Number of days in lockdown in scenario A:', A[7])\n",
    "print('--------------------------------------------------------')\n",
    "print('Scenario B')\n",
    "print('Number of lockdowns in scenario B:', len(B[7]))\n",
    "print('Total number of days in lockdown in scenario B:', sum(B[7]))\n",
    "print('Number of days in lockdown in scenario B:', B[7])\n",
    "print('--------------------------------------------------------')\n",
    "print('Scenario C')\n",
    "print('Number of lockdowns in scenario C:', len(C[7]))\n",
    "print('Total number of days in lockdown in scenario C:', sum(C[7]))\n",
    "print('Number of days in lockdown in scenario C:', C[7])"
   ]
  },
  {
   "cell_type": "markdown",
   "metadata": {},
   "source": [
    "#### Death curves"
   ]
  },
  {
   "cell_type": "code",
   "execution_count": 5,
   "metadata": {},
   "outputs": [
    {
     "data": {
      "image/png": "[encoded data removed]",
      "text/plain": [
       "<Figure size 432x288 with 1 Axes>"
      ]
     },
     "metadata": {
      "needs_background": "light"
     },
     "output_type": "display_data"
    }
   ],
   "source": [
    "plt.grid(True)\n",
    "plt.title('Death curves')\n",
    "plt.xlabel('Time [Days]')\n",
    "plt.ylabel('Number of deaths (cumulated)')\n",
    "plt.plot(A[0], A[5], 'green', label='Scenario A')\n",
    "plt.plot(B[0], B[5], 'orange', label='Scenario B')\n",
    "plt.plot(C[0], C[5], 'red', label='Scenario C')\n",
    "plt.legend()\n",
    "plt.show()"
   ]
  },
  {
   "cell_type": "markdown",
   "metadata": {},
   "source": [
    "### Conclusion"
   ]
  },
  {
   "cell_type": "markdown",
   "metadata": {},
   "source": [
    "As of 21.11.2020 we should expect at least one further lockdown. This model is not precise enough to make precise predictions, but the scenarios suggest another lockdown around April 2021. Everything beyond will highly depend on policies but also on how many people can be vaccinated per day. If this number is as large as 60.000 vaccinations per day then the effect of the vaccine on the dynamics of the pandemic will occur only beyond the year 2021. It is therefore extremely important to maximise the number as much as possible. \n",
    "\n",
    "Furthermore, the results also suggest that a typical lockdown requires a lenght of at least 2 months. Since the current number of actively infected people in Germany is very large, the current (partial-)lockdown should even take rather 3 months (from now!). \n",
    "\n",
    "Regarding the death rate one should expect between 25.000-35.000 deaths due to COVID-19 in Germany by end of 2021, assuming that the 'lockdown-hopping' policy will remain and that the vaccine will be available between January and April 2021. Without lockdowns the number of deaths would range between 60.000 (Scenario A), 140.000 (Scenario B) and 300.000 (Scenario C) by end of 2021. "
   ]
  }
 ],
 "metadata": {
  "kernelspec": {
   "display_name": "Python 3",
   "language": "python",
   "name": "python3"
  },
  "language_info": {
   "codemirror_mode": {
    "name": "ipython",
    "version": 3
   },
   "file_extension": ".py",
   "mimetype": "text/x-python",
   "name": "python",
   "nbconvert_exporter": "python",
   "pygments_lexer": "ipython3",
   "version": "3.8.3"
  }
 },
 "nbformat": 4,
 "nbformat_minor": 4
}
