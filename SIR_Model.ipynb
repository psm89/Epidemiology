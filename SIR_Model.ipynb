{
 "cells": [
  {
   "cell_type": "markdown",
   "metadata": {},
   "source": [
    "# Implementing the SIR-Model of epidemology"
   ]
  },
  {
   "cell_type": "markdown",
   "metadata": {},
   "source": [
    "### The model\n",
    "\n",
    "The spread of some types of viruses due to infections can be modeled by the so-called SIR-model. The model works as follows. Let $N$ be the total number of people within a society among which the virus can spread. Then, $N$ is the sum of the stock of susceptible population $S$, the stock of infected population $I$ and the stock of recovered population $R$: \n",
    "$$ N = S + I + R \\ . $$\n",
    "\n",
    "Note that $N$ is assumed to be constant, while $S, I$ and $R$ are clearly time-dependent quantities. \n",
    "\n",
    "The SIR-model is defined by the following three ordinary differential equations: \n",
    "$$\\begin{align*}\n",
    " \\dot{S} &= - \\beta SI  \\ , \\\\\n",
    " \\dot{I} &= \\beta SI - \\gamma I \\ , \\\\\n",
    " \\dot{R} &= \\gamma I \\ .\n",
    "\\end{align*}$$\n",
    "\n",
    "Here, $\\beta$ is a measure for the infection rate, and $\\gamma$ for the recovery rate. This model assumes that recovered people are immune against the virus. (Else, the term $\\gamma I$ would have to be added to the first differential equation.)\n",
    "\n",
    "Indeed, the differential equations are made such that $\\dot{N}=0$, which can be easily seen by adding those three equations. \n",
    "\n",
    "In the following we implement this SIR-model."
   ]
  },
  {
   "cell_type": "markdown",
   "metadata": {},
   "source": [
    "### Libraries"
   ]
  },
  {
   "cell_type": "code",
   "execution_count": 1,
   "metadata": {},
   "outputs": [],
   "source": [
    "import numpy as np\n",
    "import math\n",
    "from matplotlib import pyplot as plt"
   ]
  },
  {
   "cell_type": "markdown",
   "metadata": {},
   "source": [
    "### Parameters and initial conditions "
   ]
  },
  {
   "cell_type": "code",
   "execution_count": 2,
   "metadata": {},
   "outputs": [],
   "source": [
    "# Constants \n",
    "beta = 4e-8\n",
    "gamma = 2e-1\n",
    "\n",
    "# Population \n",
    "N = 1e8 \n",
    "infected = 1e-7 # share of initially infected people \n",
    "I = N * infected\n",
    "S = N - I # R=0\n",
    "R = N - S - I "
   ]
  },
  {
   "cell_type": "markdown",
   "metadata": {},
   "source": [
    "### SIR-Model as a function"
   ]
  },
  {
   "cell_type": "code",
   "execution_count": 3,
   "metadata": {},
   "outputs": [],
   "source": [
    "# The input of this function is S, I and R as well as beta and gamma, and the end of computation. The output should be a list of susceptible, infected and recovered \n",
    "# population at any (discrete) instant in time. \n",
    "def SIR_model(susceptible, infectious, recovered, beta, gamma, end):\n",
    "    S = susceptible\n",
    "    I = infectious\n",
    "    R = recovered\n",
    "    t = 0 # starting point \n",
    "    dt = 1/365 # size of time steps\n",
    "    T = end # end day of computation \n",
    "    N = S + I + R\n",
    "    \n",
    "    # definition of lists for the purpose of plotting\n",
    "    S_list = [S/N]\n",
    "    I_list = [I/N]\n",
    "    R_list = [R/N]\n",
    "    time = [t]\n",
    "    \n",
    "    # implementing the system of differential equations\n",
    "    while t < T:\n",
    "        # updating S, I and R taking into account invariance of N\n",
    "        S, I, R = max(S - beta*S*I*dt,0), max(I + (beta*S*I - gamma*I)*dt,0), max(R + gamma*I*dt,0) \n",
    "        t = t + dt\n",
    "        \n",
    "        S_list.append(S/N)\n",
    "        I_list.append(I/N)\n",
    "        R_list.append(R/N)\n",
    "        time.append(t)\n",
    "        \n",
    "    return S_list, I_list, R_list, time "
   ]
  },
  {
   "cell_type": "markdown",
   "metadata": {},
   "source": [
    "### Creating output by calling the function"
   ]
  },
  {
   "cell_type": "code",
   "execution_count": 4,
   "metadata": {},
   "outputs": [],
   "source": [
    "S_list, I_list, R_list, time = SIR_model(S, I, R, beta, gamma, 20)"
   ]
  },
  {
   "cell_type": "markdown",
   "metadata": {},
   "source": [
    "### Plotting the results"
   ]
  },
  {
   "cell_type": "code",
   "execution_count": 6,
   "metadata": {},
   "outputs": [
    {
     "data": {
      "text/plain": [
       "<matplotlib.legend.Legend at 0x12252057f48>"
      ]
     },
     "execution_count": 6,
     "metadata": {},
     "output_type": "execute_result"
    },
    {
     "data": {
      "image/png": "[encoded data removed]",
      "text/plain": [
       "<Figure size 432x288 with 1 Axes>"
      ]
     },
     "metadata": {
      "needs_background": "light"
     },
     "output_type": "display_data"
    }
   ],
   "source": [
    "plt.plot(time, S_list, 'b', label = 'Susceptible')\n",
    "plt.plot(time, I_list, 'r', label = 'Infected')\n",
    "plt.plot(time, R_list, 'g', label = 'Recovered')\n",
    "plt.xlabel('Time [years]')\n",
    "plt.ylabel('Percentage of population')\n",
    "plt.legend()"
   ]
  },
  {
   "cell_type": "markdown",
   "metadata": {},
   "source": [
    "### Time of maximal infection"
   ]
  },
  {
   "cell_type": "code",
   "execution_count": 7,
   "metadata": {},
   "outputs": [
    {
     "name": "stdout",
     "output_type": "stream",
     "text": [
      "After  5.073972602739871 years the point of maximal infection at a rate of 80.07129673099834 % is reached.\n"
     ]
    }
   ],
   "source": [
    "print('After ', time[I_list.index(max(I_list))-1], 'years the point of maximal infection at a rate of', max(I_list)*100,'% is reached.')"
   ]
  },
  {
   "cell_type": "markdown",
   "metadata": {},
   "source": [
    "The maximum percentage of infection can be calculated analytically. Let $t_{\\star}$ be the time at which maximal infection is reached. By definition, $\\dot{I}(t_{\\star})=0$. It then follows \n",
    "$$\\begin{align*}\n",
    "S(t_{\\star}) = \\frac{\\gamma}{\\beta} \\ . \n",
    "\\end{align*}$$\n",
    "Dividing the differential equation for $\\dot{S}$ by the differential equation of $\\dot{R}$, we get \n",
    "$$\\begin{align*}\n",
    "\\frac{dS}{dR} = - \\frac{\\beta}{\\gamma} S \\ .\n",
    "\\end{align*}$$\n",
    "The solution with $R(0)=0$ is \n",
    "$$\\begin{align*}\n",
    "S(t) = S(0) \\exp\\left[-\\frac{\\beta}{\\gamma}R(t)\\right] \\ . \n",
    "\\end{align*}$$\n",
    "One can then compute how many people have recovered at $t_{\\star}$: \n",
    "$$\\begin{align*}\n",
    "R(t_{\\star}) = \\frac{\\gamma}{\\beta} \\ln \\left(\\frac{\\beta S(0)}{\\gamma}\\right) \\ . \n",
    "\\end{align*}$$\n",
    "Since $I = N - S - R$, \n",
    "$$\\begin{align*}\n",
    "\\frac{I(t_{\\star})}{N} = 1 - \\frac{\\gamma}{N \\beta} \\left[ 1 + \\ln \\left(\\frac{\\beta S(0)}{\\gamma}\\right) \\right] \\ . \n",
    "\\end{align*}$$"
   ]
  },
  {
   "cell_type": "code",
   "execution_count": 8,
   "metadata": {},
   "outputs": [
    {
     "name": "stdout",
     "output_type": "stream",
     "text": [
      "Analytical result for the maximum share of infected people: 80.02133913223007 %\n"
     ]
    }
   ],
   "source": [
    "print('Analytical result for the maximum share of infected people:', 100*(1 - (gamma/(N*beta))*(1+np.log(beta*S_list[0]*N/gamma))), '%')"
   ]
  },
  {
   "cell_type": "markdown",
   "metadata": {},
   "source": [
    "### The S-I-plot"
   ]
  },
  {
   "cell_type": "markdown",
   "metadata": {},
   "source": [
    "We create an S-I-plot based on the numerical computation and compare the result to the analytical function. \n",
    "\n",
    "An analytical expression for $I(S)$ can be derived by considering $\\dot{I}/\\dot{S}$. One obtains \n",
    "$$\n",
    "\\begin{align*}\n",
    "\\frac{dI}{dS} = \\frac{\\gamma}{\\beta S} - 1 \\ . \n",
    "\\end{align*}\n",
    "$$\n",
    "This differential equation can be easily solved: \n",
    "$$\n",
    "\\begin{align*}\n",
    "I(S) = I(0) + S(0) - S + \\frac{\\gamma}{\\beta} \\ln \\left(\\frac{S}{S(0)}\\right) \\ .\n",
    "\\end{align*}\n",
    "$$\n",
    "Note that our assumptions above imply $S(0)+I(0)=1$. "
   ]
  },
  {
   "cell_type": "code",
   "execution_count": 9,
   "metadata": {},
   "outputs": [
    {
     "data": {
      "text/plain": [
       "<matplotlib.legend.Legend at 0x122520c06c8>"
      ]
     },
     "execution_count": 9,
     "metadata": {},
     "output_type": "execute_result"
    },
    {
     "data": {
      "image/png": "[encoded data removed]",
      "text/plain": [
       "<Figure size 432x288 with 1 Axes>"
      ]
     },
     "metadata": {
      "needs_background": "light"
     },
     "output_type": "display_data"
    }
   ],
   "source": [
    "plt.plot(S_list,I_list, 'orange', label = 'numerical')\n",
    "x = np.arange(min(S_list),1,0.01)\n",
    "plt.plot(x, 1-x+(gamma/(beta*N))*np.log(x/S_list[0]), 'purple', label = 'analytical')\n",
    "plt.xlabel('Susceptible [%]')\n",
    "plt.ylabel('Infected [%]')\n",
    "plt.legend()"
   ]
  },
  {
   "cell_type": "markdown",
   "metadata": {},
   "source": [
    "Indeed, the numerical results nicely coincide with the analytical results. "
   ]
  },
  {
   "cell_type": "code",
   "execution_count": null,
   "metadata": {},
   "outputs": [],
   "source": []
  }
 ],
 "metadata": {
  "kernelspec": {
   "display_name": "Python 3",
   "language": "python",
   "name": "python3"
  },
  "language_info": {
   "codemirror_mode": {
    "name": "ipython",
    "version": 3
   },
   "file_extension": ".py",
   "mimetype": "text/x-python",
   "name": "python",
   "nbconvert_exporter": "python",
   "pygments_lexer": "ipython3",
   "version": "3.7.4"
  }
 },
 "nbformat": 4,
 "nbformat_minor": 2
}
